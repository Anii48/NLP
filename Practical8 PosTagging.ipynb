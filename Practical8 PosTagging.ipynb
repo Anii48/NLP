{
 "cells": [
  {
   "cell_type": "markdown",
   "id": "sufficient-forth",
   "metadata": {},
   "source": [
    "Practical: 8 - Implementation of PoS tagging"
   ]
  },
  {
   "cell_type": "code",
   "execution_count": 1,
   "id": "indonesian-physiology",
   "metadata": {},
   "outputs": [],
   "source": [
    "import nltk\n",
    "from nltk.corpus import stopwords\n",
    "from nltk.tokenize import word_tokenize, sent_tokenize\n",
    "stop_words = set(stopwords.words('english'))"
   ]
  },
  {
   "cell_type": "code",
   "execution_count": 2,
   "id": "deadly-pixel",
   "metadata": {},
   "outputs": [],
   "source": [
    "txt = \"APJ Abdul Kalam was an Indian aerospace scientist\" \\\n",
    "    \"He served as the 11th president of India from 2002 to 2007. \" \\\n",
    "    \"He was born on 15 October 1931.\" \\\n",
    "    \"He spent his childhood in Rameshwaram. \" \\\n",
    "    \"Kalam served as the Chief Project Coordinator for Pokhran testing.\" \\\n",
    "    \"He went on to become one of the most loved Presidents of India. \" \\\n",
    "    \"He is also known as the missile man of India \"\n",
    "\n",
    "# sent_tokenize is one of instances of\n",
    "# PunktSentenceTokenizer from the nltk.tokenize.punkt module\n",
    "\n",
    "tokenized = sent_tokenize(txt)"
   ]
  },
  {
   "cell_type": "code",
   "execution_count": 3,
   "id": "narrative-credits",
   "metadata": {},
   "outputs": [
    {
     "name": "stdout",
     "output_type": "stream",
     "text": [
      "[('APJ', 'NNP'), ('Abdul', 'NNP'), ('Kalam', 'NNP'), ('Indian', 'NNP'), ('aerospace', 'NN'), ('scientistHe', 'NN'), ('served', 'VBD'), ('11th', 'CD'), ('president', 'NN'), ('India', 'NNP'), ('2002', 'CD'), ('2007', 'CD'), ('.', '.')]\n",
      "[('He', 'PRP'), ('born', 'VBD'), ('15', 'CD'), ('October', 'NNP'), ('1931.He', 'CD'), ('spent', 'VBD'), ('childhood', 'NN'), ('Rameshwaram', 'NNP'), ('.', '.')]\n",
      "[('Kalam', 'NNP'), ('served', 'VBD'), ('Chief', 'NNP'), ('Project', 'NNP'), ('Coordinator', 'NNP'), ('Pokhran', 'NNP'), ('testing.He', 'NN'), ('went', 'VBD'), ('become', 'IN'), ('one', 'CD'), ('loved', 'JJ'), ('Presidents', 'NNPS'), ('India', 'NNP'), ('.', '.')]\n",
      "[('He', 'PRP'), ('also', 'RB'), ('known', 'VBN'), ('missile', 'NN'), ('man', 'NN'), ('India', 'NNP')]\n"
     ]
    }
   ],
   "source": [
    "for i in tokenized:\n",
    "\n",
    "    # Word tokenizers is used to find the words\n",
    "    # and punctuation in a string\n",
    "    wordsList = nltk.word_tokenize(i)\n",
    "\n",
    "    # removing stop words from wordList\n",
    "    wordsList = [w for w in wordsList if not w in stop_words]\n",
    "\n",
    "    # Using a Tagger. Which is part-of-speech\n",
    "    # tagger or POS-tagger.\n",
    "    tagged = nltk.pos_tag(wordsList)\n",
    "\n",
    "    print(tagged)"
   ]
  },
  {
   "cell_type": "code",
   "execution_count": null,
   "id": "beautiful-shower",
   "metadata": {},
   "outputs": [],
   "source": []
  }
 ],
 "metadata": {
  "kernelspec": {
   "display_name": "Python 3",
   "language": "python",
   "name": "python3"
  },
  "language_info": {
   "codemirror_mode": {
    "name": "ipython",
    "version": 3
   },
   "file_extension": ".py",
   "mimetype": "text/x-python",
   "name": "python",
   "nbconvert_exporter": "python",
   "pygments_lexer": "ipython3",
   "version": "3.7.4"
  }
 },
 "nbformat": 4,
 "nbformat_minor": 5
}
